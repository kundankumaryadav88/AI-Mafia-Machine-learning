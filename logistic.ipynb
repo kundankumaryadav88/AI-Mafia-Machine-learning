{
  "nbformat": 4,
  "nbformat_minor": 0,
  "metadata": {
    "colab": {
      "name": "logistic.ipynb",
      "private_outputs": true,
      "provenance": [],
      "collapsed_sections": [],
      "authorship_tag": "ABX9TyMDnZpt9B7sOzaVSKLvznq0",
      "include_colab_link": true
    },
    "kernelspec": {
      "name": "python3",
      "display_name": "Python 3"
    },
    "language_info": {
      "name": "python"
    }
  },
  "cells": [
    {
      "cell_type": "markdown",
      "metadata": {
        "id": "view-in-github",
        "colab_type": "text"
      },
      "source": [
        "<a href=\"https://colab.research.google.com/github/kundankumaryadav88/AI-Mafia-Machine-learning/blob/main/logistic.ipynb\" target=\"_parent\"><img src=\"https://colab.research.google.com/assets/colab-badge.svg\" alt=\"Open In Colab\"/></a>"
      ]
    },
    {
      "cell_type": "code",
      "metadata": {
        "id": "o9lwCz21pKC6"
      },
      "source": [
        "import numpy as np\n",
        "import pandas as pd\n",
        "import matplotlib.pyplot as plt\n",
        "%matplotlib inline \n",
        "plt.style.use('seaborn')"
      ],
      "execution_count": null,
      "outputs": []
    },
    {
      "cell_type": "code",
      "metadata": {
        "id": "H2ASObOgzhID"
      },
      "source": [
        "from google.colab import files\n",
        "uploaded = files.upload()"
      ],
      "execution_count": null,
      "outputs": []
    },
    {
      "cell_type": "code",
      "metadata": {
        "id": "YcC-yFQXPIF1"
      },
      "source": [
        "dfy = pd.read_csv(\"Logistic_Y_Train.csv\")"
      ],
      "execution_count": null,
      "outputs": []
    },
    {
      "cell_type": "code",
      "metadata": {
        "id": "Zb86xPN1PWd0"
      },
      "source": [
        "dfx = pd.read_csv(\"Logistic_X_Train.csv\")"
      ],
      "execution_count": null,
      "outputs": []
    },
    {
      "cell_type": "code",
      "metadata": {
        "id": "ifKFj_TEPq2s"
      },
      "source": [
        "X = dfx.values\n",
        "Y = dfy.values"
      ],
      "execution_count": null,
      "outputs": []
    },
    {
      "cell_type": "code",
      "metadata": {
        "id": "7M-plsR3QIx3"
      },
      "source": [
        "def hypothesis(x,w,b):\n",
        "    hx = np.dot(x,w)+b\n",
        "    return sigmoid(hx)\n",
        "\n",
        "def sigmoid(h):\n",
        "    return 1.0/(1.0 + np.exp(-1.0*h))"
      ],
      "execution_count": null,
      "outputs": []
    },
    {
      "cell_type": "code",
      "metadata": {
        "id": "CCsspzKFQQYt"
      },
      "source": [
        "def error(y,x,w,b):\n",
        "    m = x.shape[0]\n",
        "    err = 0.0\n",
        "    for i in range(m):\n",
        "        hx = hypothesis(x[i],w,b)\n",
        "        err += y[i]*np.log2(hx)+(1-y[i])*np.log2(1-hx)\n",
        "    return err/m"
      ],
      "execution_count": null,
      "outputs": []
    },
    {
      "cell_type": "code",
      "metadata": {
        "id": "V_6BWt4VQUfL"
      },
      "source": [
        "def get_grad(x,w,b,y):\n",
        "    grad_b = 0.0\n",
        "    grad_w = np.zeros(w.shape)\n",
        "    m = x.shape[0]\n",
        "    for i in range(m):\n",
        "        hx = hypothesis(x[i],w,b)\n",
        "        grad_w += (y[i] - hx)*x[i]\n",
        "        grad_b +=  (y[i]-hx)\n",
        "    \n",
        "    grad_w /=m\n",
        "    grad_b /=m\n",
        "    return [grad_w,grad_b]\n",
        "\n",
        "def gradient_descent(x,y,w,b,learning_rate=0.01):\n",
        "    err = error(y,x,w,b)\n",
        "    [grad_w,grad_b] = get_grad(x,w,b,y)\n",
        "    w = w + learning_rate*grad_w\n",
        "    b = b + learning_rate*grad_b\n",
        "    return err,w,b"
      ],
      "execution_count": null,
      "outputs": []
    },
    {
      "cell_type": "code",
      "metadata": {
        "id": "5PSe-_DCQV9s"
      },
      "source": [
        "def predict(x,w,b):\n",
        "    \n",
        "    confidence = hypothesis(x,w,b)\n",
        "    if confidence<0.5:\n",
        "        return 0\n",
        "    else:\n",
        "        return 1"
      ],
      "execution_count": null,
      "outputs": []
    },
    {
      "cell_type": "code",
      "metadata": {
        "id": "or0uu7yZQeCU"
      },
      "source": [
        "results = []\n",
        "X_test = pd.read_csv(\"Logistic_X_Test.csv\")\n",
        "X_test = X_test.values\n",
        "m = X_test.shape[0]\n",
        "W = 2*np.random.random((X.shape[1],))\n",
        "b = 5*np.random.random()\n",
        "for i in range(m):\n",
        "    results.append(predict(X_test[i], W, b))\n",
        "pred_results = np.array(results)\n",
        "pred_results"
      ],
      "execution_count": null,
      "outputs": []
    }
  ]
}