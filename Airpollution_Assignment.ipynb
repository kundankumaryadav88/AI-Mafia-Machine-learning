{
  "nbformat": 4,
  "nbformat_minor": 0,
  "metadata": {
    "colab": {
      "name": "Airpollution Assignment.ipynb",
      "private_outputs": true,
      "provenance": [],
      "authorship_tag": "ABX9TyOyIjI4vvTyDfGDYXX3tfRj",
      "include_colab_link": true
    },
    "kernelspec": {
      "name": "python3",
      "display_name": "Python 3"
    },
    "language_info": {
      "name": "python"
    }
  },
  "cells": [
    {
      "cell_type": "markdown",
      "metadata": {
        "id": "view-in-github",
        "colab_type": "text"
      },
      "source": [
        "<a href=\"https://colab.research.google.com/github/kundankumaryadav88/AI-Mafia-Machine-learning/blob/main/Airpollution_Assignment.ipynb\" target=\"_parent\"><img src=\"https://colab.research.google.com/assets/colab-badge.svg\" alt=\"Open In Colab\"/></a>"
      ]
    },
    {
      "cell_type": "code",
      "metadata": {
        "id": "JBi_pBpNS0PA"
      },
      "source": [
        "import numpy as np\n",
        "import pandas as pd\n",
        "import matplotlib.pyplot as plt\n",
        "plt.style.use('seaborn')"
      ],
      "execution_count": null,
      "outputs": []
    },
    {
      "cell_type": "code",
      "metadata": {
        "id": "oBOoHDCzhGI6"
      },
      "source": [
        "from google.colab import files\n",
        "uploaded = files.upload()"
      ],
      "execution_count": null,
      "outputs": []
    },
    {
      "cell_type": "code",
      "metadata": {
        "id": "Pm9aiNPPhUCh"
      },
      "source": [
        "dfx = pd.read_csv(\"Train.csv\")"
      ],
      "execution_count": null,
      "outputs": []
    },
    {
      "cell_type": "code",
      "metadata": {
        "id": "__mTk3IvhfCr"
      },
      "source": [
        "dfz = pd.read_csv(\"Test.csv\")"
      ],
      "execution_count": null,
      "outputs": []
    },
    {
      "cell_type": "code",
      "metadata": {
        "id": "-WUMyiPjhhT0"
      },
      "source": [
        "x=dfx.values\n",
        "y = x[:,5:]\n",
        "x = x[:,:5]\n",
        "#y=dfy.values\n",
        "\n",
        "test_data=dfz.values\n",
        "print(x.shape,y.shape,test_data.shape)"
      ],
      "execution_count": null,
      "outputs": []
    },
    {
      "cell_type": "code",
      "metadata": {
        "id": "XY3P73qrhuRG"
      },
      "source": [
        "x.reshape((-1,1))\n",
        "y.reshape((-1,1))\n",
        "test_data.reshape((-1,1))\n",
        "\n",
        "print(test_data.shape)"
      ],
      "execution_count": null,
      "outputs": []
    },
    {
      "cell_type": "code",
      "metadata": {
        "id": "er634YIbifJv"
      },
      "source": [
        "plt.scatter(x[:,0],y)\n",
        "plt.scatter(x[:,1],y)\n",
        "plt.scatter(x[:,2],y)\n",
        "plt.scatter(x[:,3],y)\n",
        "plt.scatter(x[:,4],y)\n",
        "\n",
        "plt.show()"
      ],
      "execution_count": null,
      "outputs": []
    },
    {
      "cell_type": "code",
      "metadata": {
        "id": "yqLWKgOJjsM_"
      },
      "source": [
        "from sklearn.linear_model import LinearRegression"
      ],
      "execution_count": null,
      "outputs": []
    },
    {
      "cell_type": "code",
      "metadata": {
        "id": "xYIdusiJjwPu"
      },
      "source": [
        "model=LinearRegression()\n",
        "print(model.fit(x,y))"
      ],
      "execution_count": null,
      "outputs": []
    },
    {
      "cell_type": "code",
      "metadata": {
        "id": "FIYsaE3ukqDS"
      },
      "source": [
        "output=model.predict(test_data)"
      ],
      "execution_count": null,
      "outputs": []
    },
    {
      "cell_type": "code",
      "metadata": {
        "id": "hIKWY_kQkt1x"
      },
      "source": [
        "bias=model.intercept_\n",
        "coeff=model.coef_\n",
        "print(bias)\n",
        "print(coeff)"
      ],
      "execution_count": null,
      "outputs": []
    },
    {
      "cell_type": "code",
      "metadata": {
        "id": "qZ9geZeJkyef"
      },
      "source": [
        "model.score(test_data,output)"
      ],
      "execution_count": null,
      "outputs": []
    },
    {
      "cell_type": "code",
      "metadata": {
        "id": "kgF3iW-7k3vD"
      },
      "source": [
        "plt.plot(test_data,output)\n",
        "plt.show()"
      ],
      "execution_count": null,
      "outputs": []
    }
  ]
}