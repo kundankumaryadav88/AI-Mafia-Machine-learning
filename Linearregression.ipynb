{
  "nbformat": 4,
  "nbformat_minor": 0,
  "metadata": {
    "colab": {
      "name": "Linearregression.ipynb",
      "private_outputs": true,
      "provenance": [],
      "collapsed_sections": [],
      "authorship_tag": "ABX9TyPmYZ5PKlkCIPDlL7O0igHE",
      "include_colab_link": true
    },
    "kernelspec": {
      "name": "python3",
      "display_name": "Python 3"
    },
    "language_info": {
      "name": "python"
    }
  },
  "cells": [
    {
      "cell_type": "markdown",
      "metadata": {
        "id": "view-in-github",
        "colab_type": "text"
      },
      "source": [
        "<a href=\"https://colab.research.google.com/github/kundankumaryadav88/AI-Mafia-Machine-learning/blob/main/Linearregression.ipynb\" target=\"_parent\"><img src=\"https://colab.research.google.com/assets/colab-badge.svg\" alt=\"Open In Colab\"/></a>"
      ]
    },
    {
      "cell_type": "code",
      "metadata": {
        "id": "mDzfBSkS65kn"
      },
      "source": [
        "import numpy as np\n",
        "import pandas as pd\n",
        "import matplotlib.pyplot as plt"
      ],
      "execution_count": null,
      "outputs": []
    },
    {
      "cell_type": "code",
      "metadata": {
        "id": "vhJiKT3s7s92"
      },
      "source": [
        "from google.colab import files\n",
        "uploaded = files.upload()"
      ],
      "execution_count": null,
      "outputs": []
    },
    {
      "cell_type": "code",
      "metadata": {
        "id": "kCVyuPYY9i00"
      },
      "source": [
        "dfx = pd.read_csv(\"Linear_X_Train.csv\")"
      ],
      "execution_count": null,
      "outputs": []
    },
    {
      "cell_type": "code",
      "metadata": {
        "id": "xfenL-JMANyB"
      },
      "source": [
        "dfy = pd.read_csv(\"Linear_Y_Train.csv\")"
      ],
      "execution_count": null,
      "outputs": []
    },
    {
      "cell_type": "code",
      "metadata": {
        "id": "CgIhkfZsAev6"
      },
      "source": [
        "dfx = dfx.values\n",
        "dfy = dfy.values"
      ],
      "execution_count": null,
      "outputs": []
    },
    {
      "cell_type": "code",
      "metadata": {
        "id": "YLEUiss9AjMq"
      },
      "source": [
        "x = dfx.reshape((-1,))\n",
        "y = dfy.reshape((-1,))"
      ],
      "execution_count": null,
      "outputs": []
    },
    {
      "cell_type": "code",
      "metadata": {
        "id": "3ShphNBpFZqq"
      },
      "source": [
        "print(x.shape,y.shape)"
      ],
      "execution_count": null,
      "outputs": []
    },
    {
      "cell_type": "code",
      "metadata": {
        "id": "bHQUsnFSE90H"
      },
      "source": [
        "plt.scatter(x,y)\n",
        "plt.show()"
      ],
      "execution_count": null,
      "outputs": []
    },
    {
      "cell_type": "code",
      "metadata": {
        "id": "J1ntWtArJVuH"
      },
      "source": [
        ""
      ],
      "execution_count": null,
      "outputs": []
    },
    {
      "cell_type": "markdown",
      "metadata": {
        "id": "wiWiGvOLJl1O"
      },
      "source": [
        "# Gradient Descent Algoritham"
      ]
    },
    {
      "cell_type": "code",
      "metadata": {
        "id": "Mp_Yc4PCJkcz"
      },
      "source": [
        "def hypothesis(x,theta):\n",
        "    return (theta[0]+theta[1]*x)"
      ],
      "execution_count": null,
      "outputs": []
    },
    {
      "cell_type": "code",
      "metadata": {
        "id": "uiG8ot9BKEcE"
      },
      "source": [
        "def error(x,y,theta):\n",
        "    err=0\n",
        "    for i in range(x.shape[0]):\n",
        "        hx=hypothesis(x[i],theta)\n",
        "        err+=(hx-y[i])**2\n",
        "    return err"
      ],
      "execution_count": null,
      "outputs": []
    },
    {
      "cell_type": "code",
      "metadata": {
        "id": "0WiX1GUXKZfX"
      },
      "source": [
        "def gradient(x,y,theta):\n",
        "    grad=np.zeros((2,))\n",
        "    for i in range(x.shape[0]):\n",
        "        hx=hypothesis(x[i],theta)\n",
        "        grad[0]+=(hx-y[i])\n",
        "        grad[1]+=((hx-y[i])*x[i])\n",
        "    return grad"
      ],
      "execution_count": null,
      "outputs": []
    },
    {
      "cell_type": "code",
      "metadata": {
        "id": "9s3a74ZZLDKX"
      },
      "source": [
        "def gradient_descent(x,y,learning_rate=0.00005):\n",
        "    #assume or provide some random value to theta to start with\n",
        "    theta=np.array([0.0,1.0])\n",
        "    itr=0\n",
        "    final_itr=1000\n",
        "    error_list=[]\n",
        "    theta_list=[]\n",
        "    \n",
        "    while(itr<=final_itr):\n",
        "        grad=gradient(x,y,theta)\n",
        "        e=error(x,y,theta)\n",
        "        error_list.append(e)\n",
        "        theta_list.append((theta[0],theta[1]))\n",
        "        theta[0]=theta[0]-learning_rate*grad[0]\n",
        "        theta[1]=theta[1]-learning_rate*grad[1]\n",
        "        itr+=1\n",
        "    return theta,error_list,theta_list"
      ],
      "execution_count": null,
      "outputs": []
    },
    {
      "cell_type": "code",
      "metadata": {
        "id": "e52Vt9pFMWYr"
      },
      "source": [
        "final_theta,error_list,theta_list=gradient_descent(x,y)"
      ],
      "execution_count": null,
      "outputs": []
    },
    {
      "cell_type": "code",
      "metadata": {
        "id": "fE9EcaElS4bT"
      },
      "source": [
        "plt.plot(error_list)\n",
        "plt.show()"
      ],
      "execution_count": null,
      "outputs": []
    },
    {
      "cell_type": "code",
      "metadata": {
        "id": "b81eZT-JWVYK"
      },
      "source": [
        "print(error_list)"
      ],
      "execution_count": null,
      "outputs": []
    },
    {
      "cell_type": "code",
      "metadata": {
        "id": "ayYJuSrGWeKj"
      },
      "source": [
        "error_list[-1]"
      ],
      "execution_count": null,
      "outputs": []
    },
    {
      "cell_type": "code",
      "metadata": {
        "id": "HZQKnKOMWnxt"
      },
      "source": [
        "\n",
        "\n",
        "x.shape\n",
        "\n"
      ],
      "execution_count": null,
      "outputs": []
    },
    {
      "cell_type": "code",
      "metadata": {
        "id": "u49yCek_Wpzt"
      },
      "source": [
        "print(final_theta)"
      ],
      "execution_count": null,
      "outputs": []
    },
    {
      "cell_type": "code",
      "metadata": {
        "id": "Pn8_KewFW35E"
      },
      "source": [
        "xtest=np.linspace(-2,6,10)"
      ],
      "execution_count": null,
      "outputs": []
    },
    {
      "cell_type": "code",
      "metadata": {
        "id": "zLneKYG3W9uF"
      },
      "source": [
        "plt.scatter(x,y)\n",
        "plt.plot(xtest,hypothesis(xtest,final_theta))\n",
        "plt.show()"
      ],
      "execution_count": null,
      "outputs": []
    },
    {
      "cell_type": "code",
      "metadata": {
        "id": "tQOa-E5nXCDv"
      },
      "source": [
        "dfxtest = pd.read_csv(\"Linear_X_Train.csv\")"
      ],
      "execution_count": null,
      "outputs": []
    },
    {
      "cell_type": "code",
      "metadata": {
        "id": "0ZOXWdbYXTWG"
      },
      "source": [
        "xtest2=dfxtest.values.reshape(-1)"
      ],
      "execution_count": null,
      "outputs": []
    },
    {
      "cell_type": "code",
      "metadata": {
        "id": "u_K5yws7XXog"
      },
      "source": [
        "plt.scatter(x,y,label='training data')\n",
        "plt.plot(xtest2,hypothesis(xtest2,final_theta),color='red',label='test prediction line')\n",
        "plt.xlabel('x')\n",
        "plt.ylabel('y')\n",
        "plt.legend()\n",
        "plt.show()"
      ],
      "execution_count": null,
      "outputs": []
    }
  ]
}