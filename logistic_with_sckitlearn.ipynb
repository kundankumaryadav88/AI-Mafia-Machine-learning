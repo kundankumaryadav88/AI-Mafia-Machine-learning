{
  "nbformat": 4,
  "nbformat_minor": 0,
  "metadata": {
    "colab": {
      "name": "logistic with sckitlearn.ipynb",
      "private_outputs": true,
      "provenance": [],
      "authorship_tag": "ABX9TyPewGsCO98QLk/bOK6OfR4s",
      "include_colab_link": true
    },
    "kernelspec": {
      "name": "python3",
      "display_name": "Python 3"
    },
    "language_info": {
      "name": "python"
    }
  },
  "cells": [
    {
      "cell_type": "markdown",
      "metadata": {
        "id": "view-in-github",
        "colab_type": "text"
      },
      "source": [
        "<a href=\"https://colab.research.google.com/github/kundankumaryadav88/AI-Mafia-Machine-learning/blob/main/logistic_with_sckitlearn.ipynb\" target=\"_parent\"><img src=\"https://colab.research.google.com/assets/colab-badge.svg\" alt=\"Open In Colab\"/></a>"
      ]
    },
    {
      "cell_type": "code",
      "metadata": {
        "id": "ZrHmU8g8RIIp"
      },
      "source": [
        "import numpy as np\n",
        "import pandas as pd\n",
        "import matplotlib.pyplot as plt\n",
        "plt.style.use('seaborn')\n",
        "from google.colab import files\n",
        "uploaded = files.upload()\n"
      ],
      "execution_count": null,
      "outputs": []
    },
    {
      "cell_type": "code",
      "metadata": {
        "id": "Pr1twRokR4wc"
      },
      "source": [
        "x = pd.read_csv('Logistic_X_Train.csv')\n",
        "y = pd.read_csv('Logistic_Y_Train.csv')\n",
        "test = pd.read_csv('Logistic_X_Test.csv')\n",
        "x.head()"
      ],
      "execution_count": null,
      "outputs": []
    },
    {
      "cell_type": "code",
      "metadata": {
        "id": "rONzvj5vSO8H"
      },
      "source": [
        "from sklearn.linear_model import LogisticRegression\n",
        "logreg = LogisticRegression()\n",
        "logreg.fit(x,y)"
      ],
      "execution_count": null,
      "outputs": []
    },
    {
      "cell_type": "code",
      "metadata": {
        "id": "2v1rogDZSUpI"
      },
      "source": [
        "bias = logreg.intercept_\n",
        "coeff = logreg.coef_\n",
        "\n",
        "print(bias)\n",
        "print(coeff)"
      ],
      "execution_count": null,
      "outputs": []
    },
    {
      "cell_type": "code",
      "metadata": {
        "id": "XmGHGqNaSXue"
      },
      "source": [
        "logreg.predict(test)"
      ],
      "execution_count": null,
      "outputs": []
    }
  ]
}